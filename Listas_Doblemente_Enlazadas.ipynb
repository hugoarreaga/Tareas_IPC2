{
  "nbformat": 4,
  "nbformat_minor": 0,
  "metadata": {
    "colab": {
      "name": "Listas Doblemente Enlazadas.ipynb",
      "provenance": [],
      "collapsed_sections": [],
      "authorship_tag": "ABX9TyPigpKuh+1fZrxw8KxOTePo",
      "include_colab_link": true
    },
    "kernelspec": {
      "name": "python3",
      "display_name": "Python 3"
    },
    "language_info": {
      "name": "python"
    }
  },
  "cells": [
    {
      "cell_type": "markdown",
      "metadata": {
        "id": "view-in-github",
        "colab_type": "text"
      },
      "source": [
        "<a href=\"https://colab.research.google.com/github/hugoarreaga/Tareas_IPC2/blob/main/Listas_Doblemente_Enlazadas.ipynb\" target=\"_parent\"><img src=\"https://colab.research.google.com/assets/colab-badge.svg\" alt=\"Open In Colab\"/></a>"
      ]
    },
    {
      "cell_type": "markdown",
      "metadata": {
        "id": "63Y8eqf8zowP"
      },
      "source": [
        "# **LISTA DOBLEMENTE ENLAZADA**"
      ]
    },
    {
      "cell_type": "code",
      "metadata": {
        "id": "c9OShf6ovXe4"
      },
      "source": [
        "class Estudiante:\n",
        "  def __init__(self,carne,nombre,edad):\n",
        "    self.carne = carne\n",
        "    self.nombre = nombre\n",
        "    self.edad = edad\n",
        "    self.siguiente = None\n",
        "    self.anterior = None"
      ],
      "execution_count": null,
      "outputs": []
    },
    {
      "cell_type": "markdown",
      "metadata": {
        "id": "SXU97Ia5znuu"
      },
      "source": [
        "**Definicion de clase nodo**"
      ]
    },
    {
      "cell_type": "code",
      "metadata": {
        "id": "b6w1AEjp0Ryp"
      },
      "source": [
        "class Nodo:\n",
        "  def __init__(self,estudiante= None, siguiente = None , anterior= None ):\n",
        "    self.estudiante = estudiante\n",
        "    self.siguiente = siguiente\n",
        "    self.anterior = anterior"
      ],
      "execution_count": null,
      "outputs": []
    },
    {
      "cell_type": "markdown",
      "metadata": {
        "id": "X3cHDJop0WU9"
      },
      "source": [
        "**Definicion de Clase Lista Doblemente Enlazada**"
      ]
    },
    {
      "cell_type": "code",
      "metadata": {
        "id": "weBowuQM0fEJ"
      },
      "source": [
        "class lista_doble:\n",
        "  def __init__(self):\n",
        "    self.primero = None\n",
        "  \n",
        "  def insertar(self,estudiante):\n",
        "    if self.primero is None:\n",
        "      self.primero = Nodo(estudiante=estudiante)\n",
        "    else:\n",
        "      actual = Nodo(estudiante = estudiante , siguiente= self.primero)\n",
        "      self.primero.anterior = actual\n",
        "      self.primero = actual\n",
        "  def recorrer(self):\n",
        "    if self.primero is None:\n",
        "      return \n",
        "    actual = self.primero\n",
        "    print('carne: '+ str(actual.estudiante.carne) + ' Nombre: '+actual.estudiante.nombre+ ' Edad: '+ str(actual.estudiante.edad) )\n",
        "    while actual.siguiente:\n",
        "      actual = actual.siguiente\n",
        "      print('carne: '+ str(actual.estudiante.carne) + ' Nombre: '+actual.estudiante.nombre+ ' Edad: '+str(actual.estudiante.edad) )\n",
        "\n",
        "  def eliminar(self,carne):\n",
        "    actual = self.primero\n",
        "    while actual:\n",
        "      if actual.estudiante.carne == carne:\n",
        "        if actual.anterior:\n",
        "          if actual.siguiente:\n",
        "            actual.anterior.siguiente = actual.siguiente\n",
        "            actual.siguiente.anterior = actual.anterior\n",
        "          else:\n",
        "            actual.anterior.siguiente = None\n",
        "            actual,anterior = None\n",
        "        else:\n",
        "          if actual.siguiente:\n",
        "            self.primero = actual.siguiente\n",
        "            actual.siguiente.anterior = None\n",
        "          else:\n",
        "            self.primero = None\n",
        "        return True\n",
        "      else:\n",
        "        actual = actual.siguiente\n",
        "    return False\n",
        "  \n",
        "  def buscar(self,carne):\n",
        "    existe = False\n",
        "    actual = self.primero\n",
        "    while actual:\n",
        "      if actual.estudiante.carne == carne:\n",
        "        existe = True\n",
        "        print(' Carne Encontrado !!!!')\n",
        "        print(' Nombre: ' +str(actual.estudiante.nombre) + ' Carne: '+ str(actual.estudiante.carne))\n",
        "        break\n",
        "      actual = actual.siguiente\n",
        "    if not existe:\n",
        "      print(' No se encontro el carne :(')"
      ],
      "execution_count": null,
      "outputs": []
    },
    {
      "cell_type": "markdown",
      "metadata": {
        "id": "lV_4Omt92Yu7"
      },
      "source": [
        "**Creacion de objetos estudiantes**"
      ]
    },
    {
      "cell_type": "code",
      "metadata": {
        "id": "EXquU2Ez2dGc"
      },
      "source": [
        "e1 = Estudiante(202022221,'Hugo Arreaga',18)\n",
        "e2 = Estudiante(202022222,'Hugo Arre',19)\n",
        "e3 = Estudiante(202022223,'Hugo Arreff',21)"
      ],
      "execution_count": null,
      "outputs": []
    },
    {
      "cell_type": "markdown",
      "metadata": {
        "id": "qpMES57X23-L"
      },
      "source": [
        "**Insercion de Objetos en la lista**"
      ]
    },
    {
      "cell_type": "code",
      "metadata": {
        "id": "oxgKms3V28G9"
      },
      "source": [
        "lista1 = lista_doble()\n",
        "lista1.insertar(e1)\n",
        "lista1.insertar(e2)\n",
        "lista1.insertar(e3)"
      ],
      "execution_count": null,
      "outputs": []
    },
    {
      "cell_type": "markdown",
      "metadata": {
        "id": "5N9BqSPmwTSD"
      },
      "source": [
        "**Recorrer la lista**"
      ]
    },
    {
      "cell_type": "code",
      "metadata": {
        "colab": {
          "base_uri": "https://localhost:8080/"
        },
        "id": "sO4XAqQKwW9i",
        "outputId": "5a7d64d3-3cc2-4dcf-aea4-8c79d2ba9c48"
      },
      "source": [
        "lista1.recorrer()"
      ],
      "execution_count": null,
      "outputs": [
        {
          "output_type": "stream",
          "text": [
            "carne: 202022223 Nombre: Hugo Arreff Edad: 21\n",
            "carne: 202022221 Nombre: Hugo Arreaga Edad: 18\n"
          ],
          "name": "stdout"
        }
      ]
    },
    {
      "cell_type": "markdown",
      "metadata": {
        "id": "KL8cb-jR705C"
      },
      "source": [
        "**ELIMINAR DE LA LISTA**"
      ]
    },
    {
      "cell_type": "code",
      "metadata": {
        "colab": {
          "base_uri": "https://localhost:8080/"
        },
        "id": "SFoTEt_0737S",
        "outputId": "31cc0be6-68ad-4076-f061-40af194cf895"
      },
      "source": [
        "lista1.eliminar(202022222)"
      ],
      "execution_count": null,
      "outputs": [
        {
          "output_type": "execute_result",
          "data": {
            "text/plain": [
              "True"
            ]
          },
          "metadata": {},
          "execution_count": 20
        }
      ]
    },
    {
      "cell_type": "markdown",
      "metadata": {
        "id": "wjm1LMJt7_Gz"
      },
      "source": [
        "**volver a recorrer**"
      ]
    },
    {
      "cell_type": "code",
      "metadata": {
        "id": "YemdELdE8B5V",
        "colab": {
          "base_uri": "https://localhost:8080/"
        },
        "outputId": "7efff9a5-b682-4306-cd9c-832c44231eb0"
      },
      "source": [
        "lista1.recorrer()"
      ],
      "execution_count": null,
      "outputs": [
        {
          "output_type": "stream",
          "text": [
            "carne: 202022223 Nombre: Hugo Arreff Edad: 21\n",
            "carne: 202022221 Nombre: Hugo Arreaga Edad: 18\n"
          ],
          "name": "stdout"
        }
      ]
    },
    {
      "cell_type": "markdown",
      "metadata": {
        "id": "Ks4UK7En5yGM"
      },
      "source": [
        "**Metodo de Buscar**"
      ]
    },
    {
      "cell_type": "code",
      "metadata": {
        "colab": {
          "base_uri": "https://localhost:8080/"
        },
        "id": "8ZVmEmFU6C4u",
        "outputId": "4a2699a7-3784-4e8b-bf2e-12f8b52e4c1f"
      },
      "source": [
        "lista1.buscar(2020222213)"
      ],
      "execution_count": null,
      "outputs": [
        {
          "output_type": "stream",
          "text": [
            " No se encontro el carne :(\n"
          ],
          "name": "stdout"
        }
      ]
    }
  ]
}